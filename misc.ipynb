{
 "cells": [
  {
   "cell_type": "code",
   "execution_count": 1,
   "metadata": {},
   "outputs": [],
   "source": [
    "from chess_ai.game import Piece, PieceColor, Move, Game, Board"
   ]
  },
  {
   "cell_type": "code",
   "execution_count": 2,
   "metadata": {},
   "outputs": [],
   "source": [
    "game = Game(board=Board(board=[\n",
    "\t[2, 3, 4, 5, 6, 4, 3, 2],\n",
    "\t[1, 1, 1, 0, 1, 1, 1, 1],\n",
    "\t[0, 0, 0, 0, 0, 0, 0, 0],\n",
    "\t[0, 0, 0, 1, 0, 0, 0, 0],\n",
    "\t[0, 0, 0, 7, 0, 0, 0, 0],\n",
    "\t[0, 0, 0, 0, 0, 0, 0, 0],\n",
    "\t[7, 7, 7, 0, 7, 7, 7, 7],\n",
    "\t[8, 9, 10, 11, 12, 10, 9, 8],\n",
    "]), turn=0)\n"
   ]
  },
  {
   "cell_type": "code",
   "execution_count": 3,
   "metadata": {},
   "outputs": [],
   "source": [
    "board = game.board"
   ]
  },
  {
   "cell_type": "code",
   "execution_count": 4,
   "metadata": {},
   "outputs": [
    {
     "data": {
      "text/plain": [
       "'a1'"
      ]
     },
     "execution_count": 4,
     "metadata": {},
     "output_type": "execute_result"
    }
   ],
   "source": [
    "board.space_to_notation(0, 0)"
   ]
  },
  {
   "cell_type": "code",
   "execution_count": 5,
   "metadata": {},
   "outputs": [
    {
     "data": {
      "text/plain": [
       "(2, 7)"
      ]
     },
     "execution_count": 5,
     "metadata": {},
     "output_type": "execute_result"
    }
   ],
   "source": [
    "board.notation_to_space(\"c8\")\n"
   ]
  },
  {
   "cell_type": "code",
   "execution_count": 6,
   "metadata": {},
   "outputs": [
    {
     "data": {
      "text/plain": [
       "(5, 4)"
      ]
     },
     "execution_count": 6,
     "metadata": {},
     "output_type": "execute_result"
    }
   ],
   "source": [
    "board.notation_to_space(\"f5\")\n"
   ]
  },
  {
   "cell_type": "code",
   "execution_count": 7,
   "metadata": {},
   "outputs": [
    {
     "data": {
      "text/plain": [
       "'a2'"
      ]
     },
     "execution_count": 7,
     "metadata": {},
     "output_type": "execute_result"
    }
   ],
   "source": [
    "board.space_to_notation(0, 1)"
   ]
  },
  {
   "cell_type": "code",
   "execution_count": 8,
   "metadata": {},
   "outputs": [
    {
     "data": {
      "text/plain": [
       "'White Bishop'"
      ]
     },
     "execution_count": 8,
     "metadata": {},
     "output_type": "execute_result"
    }
   ],
   "source": [
    "Piece.name(board.get_piece(*board.notation_to_space(\"c8\")))"
   ]
  },
  {
   "cell_type": "code",
   "execution_count": 9,
   "metadata": {},
   "outputs": [
    {
     "name": "stdout",
     "output_type": "stream",
     "text": [
      "1 r n b q k b n r \n",
      "2 p p p   p p p p \n",
      "3                 \n",
      "4       p         \n",
      "5       P         \n",
      "6                 \n",
      "7 P P P   P P P P \n",
      "8 R N B Q K B N R \n",
      "  a b c d e f g h \n"
     ]
    }
   ],
   "source": [
    "board.pprint()"
   ]
  },
  {
   "cell_type": "code",
   "execution_count": 10,
   "metadata": {},
   "outputs": [],
   "source": [
    "move = Move(\n",
    "    x1 = 2,\n",
    "    y1 = 7,\n",
    "    x2 = 5,\n",
    "    y2 = 4,\n",
    "    piece = board.get_piece(2, 7)\n",
    ")"
   ]
  },
  {
   "cell_type": "code",
   "execution_count": 11,
   "metadata": {},
   "outputs": [
    {
     "name": "stdout",
     "output_type": "stream",
     "text": [
      "start ((2, 7)) c8\n",
      "end ((5, 4)) f5\n",
      "actual:\n",
      "\t (3, 6)\n",
      "\t d7; Empty\n",
      "actual:\n",
      "\t (4, 7)\n",
      "\t e8; White King\n"
     ]
    },
    {
     "data": {
      "text/plain": [
       "False"
      ]
     },
     "execution_count": 11,
     "metadata": {},
     "output_type": "execute_result"
    }
   ],
   "source": [
    "\n",
    "game.validator._is_path_clear(move)"
   ]
  },
  {
   "cell_type": "code",
   "execution_count": null,
   "metadata": {},
   "outputs": [],
   "source": [
    "[\n",
    "    (2, 7)\n",
    "    (3, 6)\n",
    "    (4, 5)\n",
    "    (5, 4)\n",
    "]"
   ]
  }
 ],
 "metadata": {
  "kernelspec": {
   "display_name": "Python 3.10.4 ('venv': venv)",
   "language": "python",
   "name": "python3"
  },
  "language_info": {
   "codemirror_mode": {
    "name": "ipython",
    "version": 3
   },
   "file_extension": ".py",
   "mimetype": "text/x-python",
   "name": "python",
   "nbconvert_exporter": "python",
   "pygments_lexer": "ipython3",
   "version": "3.10.4"
  },
  "orig_nbformat": 4,
  "vscode": {
   "interpreter": {
    "hash": "460ec8b8ae5794d2392a78f02b81699e174e74d66f59e6a4d7b847707f69fc5f"
   }
  }
 },
 "nbformat": 4,
 "nbformat_minor": 2
}
